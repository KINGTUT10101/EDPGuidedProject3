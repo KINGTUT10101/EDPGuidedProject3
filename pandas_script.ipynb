{
 "cells": [
  {
   "cell_type": "code",
   "execution_count": 1,
   "id": "d1bcba51",
   "metadata": {},
   "outputs": [],
   "source": [
    "import pandas as pd"
   ]
  },
  {
   "cell_type": "code",
   "execution_count": 10,
   "id": "9cb1ee8a",
   "metadata": {},
   "outputs": [
    {
     "name": "stdout",
     "output_type": "stream",
     "text": [
      "             timestamp  unit_id           unit_type empire_or_resistance  \\\n",
      "0  2025-07-09 09:10:23        1             unknown               empire   \n",
      "1  2025-07-09 09:10:22        2  resistance_soldier           resistance   \n",
      "2  2025-07-09 09:10:21        3               at-at           resistance   \n",
      "3  2025-07-09 09:10:20        4              x-wing           resistance   \n",
      "4  2025-07-09 09:10:19        5             unknown           resistance   \n",
      "\n",
      "   location_x  location_y  destination_x  destination_y homeworld  \n",
      "0          10           8              8              6  Toydaria  \n",
      "1           7           2              6              7      Ojom  \n",
      "2           4          10              6              4   Vulpter  \n",
      "3           3           2              6              9  Kashyyyk  \n",
      "4           3           5              7             10      Ojom  \n"
     ]
    }
   ],
   "source": [
    "# Reading the data into pandas\n",
    "data = pd.read_csv('troop_movements.csv')\n",
    "print(data.head())"
   ]
  },
  {
   "cell_type": "code",
   "execution_count": 9,
   "id": "ec0caba0",
   "metadata": {},
   "outputs": [
    {
     "name": "stdout",
     "output_type": "stream",
     "text": [
      "empire_or_resistance\n",
      "empire        506\n",
      "resistance    494\n",
      "Name: count, dtype: int64\n"
     ]
    }
   ],
   "source": [
    "unit_count = data['empire_or_resistance'].value_counts()\n",
    "print(unit_count)"
   ]
  },
  {
   "cell_type": "code",
   "execution_count": 11,
   "id": "deabffc3",
   "metadata": {},
   "outputs": [
    {
     "name": "stdout",
     "output_type": "stream",
     "text": [
      "homeworld\n",
      "Vulpter         37\n",
      "Haruun Kal      36\n",
      "Ojom            34\n",
      "Ryloth          32\n",
      "Iridonia        31\n",
      "Kashyyyk        30\n",
      "Troiken         27\n",
      "Corellia        27\n",
      "Muunilinst      27\n",
      "Aleen Minor     26\n",
      "Bestine IV      25\n",
      "Rodia           25\n",
      "Eriadu          25\n",
      "Tatooine        25\n",
      "Mon Cala        25\n",
      "Concord Dawn    24\n",
      "Shili           24\n",
      "Skako           24\n",
      "Glee Anselm     23\n",
      "Kalee           23\n",
      "Trandosha       22\n",
      "Quermia         22\n",
      "Toydaria        22\n",
      "Champala        22\n",
      "Dorin           22\n",
      "Naboo           22\n",
      "Mirial          22\n",
      "Stewjon         22\n",
      "Tund            21\n",
      "Socorro         21\n",
      "Dagobah         21\n",
      "Umbara          21\n",
      "Dathomir        20\n",
      "Zolan           20\n",
      "Tholoth         20\n",
      "Malastare       20\n",
      "Serenno         19\n",
      "Iktotch         19\n",
      "Cerea           19\n",
      "Chandrila       18\n",
      "Alderaan        18\n",
      "Sullust         17\n",
      "Name: count, dtype: int64\n"
     ]
    }
   ],
   "source": [
    "homeworld_count = data['homeworld'].value_counts()\n",
    "print(homeworld_count)"
   ]
  },
  {
   "cell_type": "code",
   "execution_count": null,
   "id": "3dd88b12",
   "metadata": {},
   "outputs": [],
   "source": []
  }
 ],
 "metadata": {
  "kernelspec": {
   "display_name": "Python 3",
   "language": "python",
   "name": "python3"
  },
  "language_info": {
   "codemirror_mode": {
    "name": "ipython",
    "version": 3
   },
   "file_extension": ".py",
   "mimetype": "text/x-python",
   "name": "python",
   "nbconvert_exporter": "python",
   "pygments_lexer": "ipython3",
   "version": "3.12.3"
  }
 },
 "nbformat": 4,
 "nbformat_minor": 5
}
