{
 "cells": [
  {
   "cell_type": "code",
   "execution_count": 1,
   "id": "d1bcba51",
   "metadata": {},
   "outputs": [],
   "source": [
    "import pandas as pd"
   ]
  },
  {
   "cell_type": "code",
   "execution_count": 10,
   "id": "9cb1ee8a",
   "metadata": {},
   "outputs": [
    {
     "name": "stdout",
     "output_type": "stream",
     "text": [
      "             timestamp  unit_id           unit_type empire_or_resistance  \\\n",
      "0  2025-07-09 09:10:23        1             unknown               empire   \n",
      "1  2025-07-09 09:10:22        2  resistance_soldier           resistance   \n",
      "2  2025-07-09 09:10:21        3               at-at           resistance   \n",
      "3  2025-07-09 09:10:20        4              x-wing           resistance   \n",
      "4  2025-07-09 09:10:19        5             unknown           resistance   \n",
      "\n",
      "   location_x  location_y  destination_x  destination_y homeworld  \n",
      "0          10           8              8              6  Toydaria  \n",
      "1           7           2              6              7      Ojom  \n",
      "2           4          10              6              4   Vulpter  \n",
      "3           3           2              6              9  Kashyyyk  \n",
      "4           3           5              7             10      Ojom  \n"
     ]
    }
   ],
   "source": [
    "# Reading the data into pandas\n",
    "data = pd.read_csv('troop_movements.csv')\n",
    "print(data.head())"
   ]
  },
  {
   "cell_type": "code",
   "execution_count": 9,
   "id": "ec0caba0",
   "metadata": {},
   "outputs": [
    {
     "name": "stdout",
     "output_type": "stream",
     "text": [
      "empire_or_resistance\n",
      "empire        506\n",
      "resistance    494\n",
      "Name: count, dtype: int64\n"
     ]
    }
   ],
   "source": [
    "unit_count = data['empire_or_resistance'].value_counts()\n",
    "print(unit_count)"
   ]
  },
  {
   "cell_type": "code",
   "execution_count": null,
   "id": "deabffc3",
   "metadata": {},
   "outputs": [],
   "source": []
  }
 ],
 "metadata": {
  "kernelspec": {
   "display_name": "Python 3",
   "language": "python",
   "name": "python3"
  },
  "language_info": {
   "codemirror_mode": {
    "name": "ipython",
    "version": 3
   },
   "file_extension": ".py",
   "mimetype": "text/x-python",
   "name": "python",
   "nbconvert_exporter": "python",
   "pygments_lexer": "ipython3",
   "version": "3.12.3"
  }
 },
 "nbformat": 4,
 "nbformat_minor": 5
}
