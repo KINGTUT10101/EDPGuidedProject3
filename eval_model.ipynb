{
 "cells": [
  {
   "cell_type": "code",
   "execution_count": 14,
   "metadata": {},
   "outputs": [],
   "source": [
    "import pickle\n",
    "\n",
    "with open (\"trained_model.pkl\", \"rb\") as file:\n",
    "    model = pickle.load (file)"
   ]
  },
  {
   "cell_type": "code",
   "execution_count": 15,
   "metadata": {},
   "outputs": [
    {
     "name": "stdout",
     "output_type": "stream",
     "text": [
      "['empire' 'empire' 'empire' ... 'resistance' 'empire' 'empire']\n",
      "<class 'numpy.ndarray'>\n"
     ]
    }
   ],
   "source": [
    "import pandas as pd\n",
    "\n",
    "# Load the cleaned data\n",
    "dataset_orig = pd.read_parquet('troop_movements_clean.parquet', engine='pyarrow')\n",
    "\n",
    "y_pred = model.predict (dataset_orig)\n",
    "\n",
    "print (y_pred)\n",
    "print (type(y_pred))"
   ]
  },
  {
   "cell_type": "code",
   "execution_count": 16,
   "metadata": {},
   "outputs": [
    {
     "name": "stdout",
     "output_type": "stream",
     "text": [
      "                  timestamp  unit_id     unit_type  location_x  location_y  \\\n",
      "0       2023-06-03 03:19:15   919214  tie_silencer         2.0         5.0   \n",
      "1       2023-02-24 13:50:40  9467154  stormtrooper         9.0         0.0   \n",
      "2       2023-03-29 19:54:55  6585778  tie_silencer         0.0         6.0   \n",
      "3       2023-04-30 00:58:11  3878023  tie_silencer         4.0         2.0   \n",
      "4       2023-04-10 22:00:26  5537117         at-st         6.0         8.0   \n",
      "...                     ...      ...           ...         ...         ...   \n",
      "999995  2023-05-03 18:48:56  3553240   tie_fighter         8.0         4.0   \n",
      "999996  2023-05-25 13:45:35  1662636         at-at         0.0         3.0   \n",
      "999997  2023-05-17 12:16:37  2362262   tie_fighter         6.0         8.0   \n",
      "999998  2023-03-17 08:04:26  7669749   tie_fighter         9.0         3.0   \n",
      "999999  2023-05-19 12:29:02  2187995         at-st         9.0         4.0   \n",
      "\n",
      "        destination_x  destination_y    homeworld predictions  \n",
      "0                   9              3  Aleen Minor      empire  \n",
      "1                   9              1    Malastare      empire  \n",
      "2                   5              9      Serenno      empire  \n",
      "3                   9              9         Tund      empire  \n",
      "4                   5              8        Skako  resistance  \n",
      "...               ...            ...          ...         ...  \n",
      "999995              8              1    Chandrila  resistance  \n",
      "999996              8              6    Trandosha  resistance  \n",
      "999997              7              9     Kashyyyk  resistance  \n",
      "999998              3              5        Zolan      empire  \n",
      "999999              7              4      Dagobah      empire  \n",
      "\n",
      "[1000000 rows x 9 columns]\n"
     ]
    }
   ],
   "source": [
    "dataset_post = dataset_orig.copy()\n",
    "\n",
    "dataset_post[\"predictions\"] = y_pred\n",
    "print(dataset_post)"
   ]
  },
  {
   "cell_type": "code",
   "execution_count": 18,
   "metadata": {},
   "outputs": [],
   "source": [
    "from sklearn.model_selection import train_test_split\n",
    "\n",
    "trainset = pd.read_csv('troop_movements.csv')\n",
    "\n",
    "X = trainset.drop(columns=['empire_or_resistance'], axis=1)\n",
    "y = trainset['empire_or_resistance']\n",
    "\n",
    "X_train, X_test, y_train, y_test = train_test_split (X,y,test_size=0.2, random_state = 42)"
   ]
  },
  {
   "cell_type": "code",
   "execution_count": 19,
   "metadata": {},
   "outputs": [
    {
     "name": "stdout",
     "output_type": "stream",
     "text": [
      "Accuracy: 0.63\n"
     ]
    }
   ],
   "source": [
    "from sklearn.metrics import accuracy_score\n",
    "\n",
    "y_pred = model.predict (X_test)\n",
    "\n",
    "accuracy = accuracy_score (y_test, y_pred)\n",
    "print (\"Accuracy:\", accuracy)"
   ]
  },
  {
   "cell_type": "code",
   "execution_count": 22,
   "metadata": {},
   "outputs": [
    {
     "data": {
      "image/png": "[encoded data removed]",
      "text/plain": [
       "<Figure size 200x200 with 1 Axes>"
      ]
     },
     "metadata": {},
     "output_type": "display_data"
    }
   ],
   "source": [
    "from sklearn.metrics import confusion_matrix\n",
    "import matplotlib.pyplot as plt\n",
    "import seaborn as sns\n",
    "\n",
    "# Creating the confusion matrix using the training set\n",
    "cm = confusion_matrix(y_test, y_pred)\n",
    "\n",
    "# Plotting the confusion matrix\n",
    "plt.figure(figsize=(2, 2))\n",
    "sns.heatmap(cm, annot=True, fmt='d', cmap='Blues', cbar=False)\n",
    "plt.title('Confusion Matrix for Random Forest (Training Set)')\n",
    "plt.xlabel('Predicted Labels')\n",
    "plt.ylabel('True Labels')\n",
    "plt.show()"
   ]
  }
 ],
 "metadata": {
  "kernelspec": {
   "display_name": "Python 3",
   "language": "python",
   "name": "python3"
  },
  "language_info": {
   "codemirror_mode": {
    "name": "ipython",
    "version": 3
   },
   "file_extension": ".py",
   "mimetype": "text/x-python",
   "name": "python",
   "nbconvert_exporter": "python",
   "pygments_lexer": "ipython3",
   "version": "3.12.3"
  }
 },
 "nbformat": 4,
 "nbformat_minor": 2
}
