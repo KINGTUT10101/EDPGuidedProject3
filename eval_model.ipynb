{
 "cells": [
  {
   "cell_type": "code",
   "execution_count": 2,
   "metadata": {},
   "outputs": [
    {
     "name": "stdout",
     "output_type": "stream",
     "text": [
      "Pipeline(steps=[('data_preprocessing',\n",
      "                 ColumnTransformer(transformers=[('cat_onehot',\n",
      "                                                  Pipeline(steps=[('onehotencoder',\n",
      "                                                                   OneHotEncoder(handle_unknown='ignore'))]),\n",
      "                                                  ['unit_type', 'homeworld']),\n",
      "                                                 ('drop_column', 'drop',\n",
      "                                                  ['timestamp', 'unit_id',\n",
      "                                                   'location_x', 'location_y',\n",
      "                                                   'destination_x',\n",
      "                                                   'destination_y'])])),\n",
      "                ('random_forest',\n",
      "                 DecisionTreeClassifier(class_weight='balanced',\n",
      "                                        random_state=42))])\n"
     ]
    }
   ],
   "source": [
    "import pickle\n",
    "\n",
    "with open (\"trained_model.pkl\", \"rb\") as file:\n",
    "    model = pickle.load (file)"
   ]
  },
  {
   "cell_type": "code",
   "execution_count": 8,
   "metadata": {},
   "outputs": [
    {
     "name": "stdout",
     "output_type": "stream",
     "text": [
      "['empire' 'empire' 'empire' ... 'resistance' 'empire' 'empire']\n"
     ]
    }
   ],
   "source": [
    "import pandas as pd\n",
    "\n",
    "# Load the cleaned data\n",
    "dataset_orig = pd.read_parquet('troop_movements_clean.parquet', engine='pyarrow')\n",
    "\n",
    "y_pred = model.predict (dataset_orig)\n",
    "\n",
    "print (y_pred)"
   ]
  },
  {
   "cell_type": "code",
   "execution_count": null,
   "metadata": {},
   "outputs": [],
   "source": []
  }
 ],
 "metadata": {
  "kernelspec": {
   "display_name": "Python 3",
   "language": "python",
   "name": "python3"
  },
  "language_info": {
   "codemirror_mode": {
    "name": "ipython",
    "version": 3
   },
   "file_extension": ".py",
   "mimetype": "text/x-python",
   "name": "python",
   "nbconvert_exporter": "python",
   "pygments_lexer": "ipython3",
   "version": "3.12.3"
  }
 },
 "nbformat": 4,
 "nbformat_minor": 2
}
