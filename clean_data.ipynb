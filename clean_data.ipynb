{
 "cells": [
  {
   "cell_type": "code",
   "execution_count": 8,
   "metadata": {},
   "outputs": [],
   "source": [
    "import pandas as pd\n",
    "\n",
    "# Reading the dataset_orig into pandas\n",
    "real_data_orig = pd.read_csv('troop_movements_1m.csv')"
   ]
  },
  {
   "cell_type": "code",
   "execution_count": 9,
   "metadata": {},
   "outputs": [
    {
     "name": "stdout",
     "output_type": "stream",
     "text": [
      "unit_type\n",
      "tie_silencer          143216\n",
      "tie_fighter           142753\n",
      "at-at                 142724\n",
      "resistance_soldier    142647\n",
      "stormtrooper          142611\n",
      "at-st                 142554\n",
      "x-wing                142494\n",
      "invalid_unit            1001\n",
      "Name: count, dtype: int64\n",
      "unit_type\n",
      "tie_silencer          143216\n",
      "tie_fighter           142753\n",
      "at-at                 142724\n",
      "resistance_soldier    142647\n",
      "stormtrooper          142611\n",
      "at-st                 142554\n",
      "x-wing                142494\n",
      "unknown                 1001\n",
      "Name: count, dtype: int64\n"
     ]
    }
   ],
   "source": [
    "unit_count = real_data_orig['unit_type'].value_counts()\n",
    "print(unit_count)\n",
    "\n",
    "# Replace invalid_type unit types with unknown\n",
    "real_data_orig[\"unit_type\"] = real_data_orig[\"unit_type\"].replace (\"invalid_unit\", \"unknown\")\n",
    "\n",
    "unit_count = real_data_orig['unit_type'].value_counts()\n",
    "print(unit_count)"
   ]
  },
  {
   "cell_type": "code",
   "execution_count": 10,
   "metadata": {},
   "outputs": [],
   "source": [
    "real_data_orig.to_parquet('troop_movements_clean.parquet', engine='fastparquet')"
   ]
  }
 ],
 "metadata": {
  "kernelspec": {
   "display_name": "Python 3",
   "language": "python",
   "name": "python3"
  },
  "language_info": {
   "codemirror_mode": {
    "name": "ipython",
    "version": 3
   },
   "file_extension": ".py",
   "mimetype": "text/x-python",
   "name": "python",
   "nbconvert_exporter": "python",
   "pygments_lexer": "ipython3",
   "version": "3.12.3"
  }
 },
 "nbformat": 4,
 "nbformat_minor": 2
}
